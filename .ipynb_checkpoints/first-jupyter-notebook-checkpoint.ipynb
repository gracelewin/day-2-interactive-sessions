{
 "cells": [
  {
   "cell_type": "markdown",
   "id": "b966cfb0",
   "metadata": {},
   "source": [
    "## Introduction to jupyter notebooks\n",
    "\n",
    "### Grace Lewin\n",
    "\n",
    "##### EDS 212\n",
    "\n",
    "- bulletpoints"
   ]
  },
  {
   "cell_type": "code",
   "execution_count": 1,
   "id": "6113b6ce",
   "metadata": {},
   "outputs": [],
   "source": [
    "teddy = 10"
   ]
  },
  {
   "cell_type": "code",
   "execution_count": 3,
   "id": "dcc4b06c",
   "metadata": {},
   "outputs": [
    {
     "data": {
      "text/plain": [
       "10"
      ]
     },
     "execution_count": 3,
     "metadata": {},
     "output_type": "execute_result"
    }
   ],
   "source": [
    "teddy"
   ]
  },
  {
   "cell_type": "code",
   "execution_count": 4,
   "id": "2e87ae65",
   "metadata": {},
   "outputs": [
    {
     "data": {
      "text/plain": [
       "30"
      ]
     },
     "execution_count": 4,
     "metadata": {},
     "output_type": "execute_result"
    }
   ],
   "source": [
    "teddy + 20"
   ]
  },
  {
   "cell_type": "code",
   "execution_count": 5,
   "id": "0ab7085c",
   "metadata": {},
   "outputs": [],
   "source": [
    "def my_sum(apples, bananas): \n",
    "    fruit_total = apples + bananas\n",
    "    print(fruit_total)"
   ]
  },
  {
   "cell_type": "code",
   "execution_count": 6,
   "id": "48a60f24",
   "metadata": {},
   "outputs": [
    {
     "name": "stdout",
     "output_type": "stream",
     "text": [
      "32\n"
     ]
    }
   ],
   "source": [
    "my_sum(apples = 14, bananas = 18)"
   ]
  },
  {
   "cell_type": "code",
   "execution_count": null,
   "id": "100d4dce",
   "metadata": {},
   "outputs": [],
   "source": []
  }
 ],
 "metadata": {
  "kernelspec": {
   "display_name": "Python 3",
   "language": "python",
   "name": "python3"
  },
  "language_info": {
   "codemirror_mode": {
    "name": "ipython",
    "version": 3
   },
   "file_extension": ".py",
   "mimetype": "text/x-python",
   "name": "python",
   "nbconvert_exporter": "python",
   "pygments_lexer": "ipython3",
   "version": "3.8.8"
  }
 },
 "nbformat": 4,
 "nbformat_minor": 5
}
